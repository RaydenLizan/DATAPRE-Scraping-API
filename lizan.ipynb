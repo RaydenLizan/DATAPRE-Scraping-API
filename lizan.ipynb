{
 "cells": [
  {
   "cell_type": "markdown",
   "id": "0ffa513b",
   "metadata": {},
   "source": [
    "# Web Scraping - Pokemon\n",
    "Rayden Lizan - S14"
   ]
  },
  {
   "cell_type": "markdown",
   "id": "b0c1af63",
   "metadata": {},
   "source": [
    "### Importing libraries"
   ]
  },
  {
   "cell_type": "code",
   "execution_count": 1,
   "id": "06c9f841",
   "metadata": {},
   "outputs": [],
   "source": [
    "import requests\n",
    "import pandas as pd\n",
    "import numpy as np\n",
    "URL=\"https://bulbapedia.bulbagarden.net/wiki/List_of_Pok%C3%A9mon_by_National_Pok%C3%A9dex_number\""
   ]
  },
  {
   "cell_type": "markdown",
   "id": "204bc277",
   "metadata": {},
   "source": [
    "### Loading the page"
   ]
  },
  {
   "cell_type": "code",
   "execution_count": 2,
   "id": "d44bf004",
   "metadata": {},
   "outputs": [],
   "source": [
    "page = requests.get(URL)"
   ]
  },
  {
   "cell_type": "markdown",
   "id": "892feab8",
   "metadata": {},
   "source": [
    "### Parsing HTML data using BeautifulSoup"
   ]
  },
  {
   "cell_type": "code",
   "execution_count": 3,
   "id": "c3e51bc9",
   "metadata": {},
   "outputs": [
    {
     "data": {
      "text/plain": [
       "<html><head><title>bulbagarden.net</title><script src=\"/cdn-cgi/apps/head/gBGjtYtSEMyRflZogcJJMbLZn7I.js\"></script><style>#cmsg{animation: A 1.5s;}@keyframes A{0%{opacity:0;}99%{opacity:0;}100%{opacity:1;}}</style></head><body style=\"margin:0\"><p id=\"cmsg\">Please enable JS and disable any ad blocker</p><script>var dd={'cid':'AHrlqAAAAAMAw-qn23PZyCoAcM79YQ==','hsh':'807A77E74C9E10E57C65E81481F1FE','t':'bv','s':39355,'e':'370c3555197869a1aa7dbb91e4a40c6d042892c677570e3a015c0121cbcb8953','host':'geo.captcha-delivery.com'}</script><script src=\"https://ct.captcha-delivery.com/c.js\"></script></body></html>"
      ]
     },
     "execution_count": 3,
     "metadata": {},
     "output_type": "execute_result"
    }
   ],
   "source": [
    "from bs4 import BeautifulSoup\n",
    "\n",
    "soup = BeautifulSoup(page.content, 'html.parser')\n",
    "soup"
   ]
  },
  {
   "cell_type": "markdown",
   "id": "93592362",
   "metadata": {},
   "source": [
    "### Function to convert pokemon data to json\n",
    "The function will sort through the html data and extract pokemon, including its kdex, ndex, name and types. The function will collect pokemon starting from the inputted starting generation up until the inputted end generation. Scrapetime is also inputted and recorded."
   ]
  },
  {
   "cell_type": "code",
   "execution_count": 4,
   "id": "9831b631",
   "metadata": {},
   "outputs": [],
   "source": [
    "def pokemon_to_json(soup, startGen, endGen, scrapetime):\n",
    "    gen_json = []\n",
    "    info_start = 1\n",
    "    \n",
    "    for generation in range(startGen, endGen+1):\n",
    "        poke_content=soup.find(id='mw-content-text')\n",
    "        poke_tables=poke_content.find_all('table')\n",
    "        gen_list=poke_tables[generation]\n",
    "        info_row=gen_list.contents[info_start]\n",
    "\n",
    "\n",
    "        for pokemon_info_values, even_index_chec in zip(info_row.contents, range(0,len(info_row.contents))):\n",
    "            if ((even_index_chec % 2) == 0) & (even_index_chec != 0) :\n",
    "                pokemon_raw_info = pokemon_info_values.text.strip().split('\\n')\n",
    "\n",
    "\n",
    "                if len(pokemon_raw_info) == 7:\n",
    "                    kdex = pokemon_raw_info[0]\n",
    "                    ndex = pokemon_raw_info[1]\n",
    "                    poke_name = pokemon_raw_info[4]\n",
    "                    type1 = pokemon_raw_info[6]\n",
    "                    type2 = ''\n",
    "                    categ = 'Other Form Single Type'\n",
    "\n",
    "                elif len(pokemon_raw_info) == 8:\n",
    "                    kdex = pokemon_raw_info[0]\n",
    "                    ndex = pokemon_raw_info[1]\n",
    "                    poke_name = pokemon_raw_info[4]\n",
    "                    type1 = pokemon_raw_info[6]\n",
    "                    type2 = pokemon_raw_info[7]\n",
    "                    categ = 'Other Form Multi Type'\n",
    "\n",
    "                elif len(pokemon_raw_info) == 9:\n",
    "                    kdex = pokemon_raw_info[0]\n",
    "                    ndex = pokemon_raw_info[2]\n",
    "                    poke_name = pokemon_raw_info[6]\n",
    "                    type1 = pokemon_raw_info[8]\n",
    "                    type2 = ''\n",
    "                    categ = 'Orig Form Single Type'\n",
    "\n",
    "                elif len(pokemon_raw_info) == 10:\n",
    "                    kdex = pokemon_raw_info[0]\n",
    "                    ndex = pokemon_raw_info[2]\n",
    "                    poke_name = pokemon_raw_info[6]\n",
    "                    type1 = pokemon_raw_info[8]\n",
    "                    type2 = pokemon_raw_info[9]\n",
    "                    categ = 'Orig Form Multi Type'\n",
    "\n",
    "                else:\n",
    "                    print('Check out elements containing ' + str(len(pokemon_raw_info)) + ' elements')\n",
    "\n",
    "                gen_json.append({\"kdex\" : kdex,\n",
    "                                  \"ndex\" : ndex,\n",
    "                                  \"poke_name\" : poke_name,\n",
    "                                  \"type1\" : type1,\n",
    "                                  \"type2\" : type2,\n",
    "                                  \"generation\" : generation,\n",
    "                                  \"scrapetime\" : scrapetime})\n",
    "    \n",
    "    \n",
    "    return gen_json"
   ]
  },
  {
   "cell_type": "markdown",
   "id": "fec1e222",
   "metadata": {},
   "source": [
    "### Initializing variables for the function\n",
    "We will be getting pokemon from Gen 1 to Gen 8. The scrapetime will be the time today."
   ]
  },
  {
   "cell_type": "code",
   "execution_count": 5,
   "id": "12ea2404",
   "metadata": {},
   "outputs": [],
   "source": [
    "startGen = 1\n",
    "endGen = 8\n",
    "scrapetime = np.datetime64('now')"
   ]
  },
  {
   "cell_type": "markdown",
   "id": "47be494c",
   "metadata": {},
   "source": [
    "### Calling the `pokemon_to_json` function"
   ]
  },
  {
   "cell_type": "code",
   "execution_count": 6,
   "id": "0c042b2c",
   "metadata": {},
   "outputs": [
    {
     "ename": "AttributeError",
     "evalue": "'NoneType' object has no attribute 'find_all'",
     "output_type": "error",
     "traceback": [
      "\u001b[1;31m---------------------------------------------------------------------------\u001b[0m",
      "\u001b[1;31mAttributeError\u001b[0m                            Traceback (most recent call last)",
      "\u001b[1;32m<ipython-input-6-7d683584e997>\u001b[0m in \u001b[0;36m<module>\u001b[1;34m\u001b[0m\n\u001b[1;32m----> 1\u001b[1;33m \u001b[0mgen_json\u001b[0m \u001b[1;33m=\u001b[0m \u001b[0mpokemon_to_json\u001b[0m\u001b[1;33m(\u001b[0m\u001b[0msoup\u001b[0m\u001b[1;33m,\u001b[0m \u001b[0mstartGen\u001b[0m\u001b[1;33m,\u001b[0m \u001b[0mendGen\u001b[0m\u001b[1;33m,\u001b[0m \u001b[0mscrapetime\u001b[0m\u001b[1;33m)\u001b[0m\u001b[1;33m\u001b[0m\u001b[1;33m\u001b[0m\u001b[0m\n\u001b[0m",
      "\u001b[1;32m<ipython-input-4-e1a97f527237>\u001b[0m in \u001b[0;36mpokemon_to_json\u001b[1;34m(soup, startGen, endGen, scrapetime)\u001b[0m\n\u001b[0;32m      5\u001b[0m     \u001b[1;32mfor\u001b[0m \u001b[0mgeneration\u001b[0m \u001b[1;32min\u001b[0m \u001b[0mrange\u001b[0m\u001b[1;33m(\u001b[0m\u001b[0mstartGen\u001b[0m\u001b[1;33m,\u001b[0m \u001b[0mendGen\u001b[0m\u001b[1;33m+\u001b[0m\u001b[1;36m1\u001b[0m\u001b[1;33m)\u001b[0m\u001b[1;33m:\u001b[0m\u001b[1;33m\u001b[0m\u001b[1;33m\u001b[0m\u001b[0m\n\u001b[0;32m      6\u001b[0m         \u001b[0mpoke_content\u001b[0m\u001b[1;33m=\u001b[0m\u001b[0msoup\u001b[0m\u001b[1;33m.\u001b[0m\u001b[0mfind\u001b[0m\u001b[1;33m(\u001b[0m\u001b[0mid\u001b[0m\u001b[1;33m=\u001b[0m\u001b[1;34m'mw-content-text'\u001b[0m\u001b[1;33m)\u001b[0m\u001b[1;33m\u001b[0m\u001b[1;33m\u001b[0m\u001b[0m\n\u001b[1;32m----> 7\u001b[1;33m         \u001b[0mpoke_tables\u001b[0m\u001b[1;33m=\u001b[0m\u001b[0mpoke_content\u001b[0m\u001b[1;33m.\u001b[0m\u001b[0mfind_all\u001b[0m\u001b[1;33m(\u001b[0m\u001b[1;34m'table'\u001b[0m\u001b[1;33m)\u001b[0m\u001b[1;33m\u001b[0m\u001b[1;33m\u001b[0m\u001b[0m\n\u001b[0m\u001b[0;32m      8\u001b[0m         \u001b[0mgen_list\u001b[0m\u001b[1;33m=\u001b[0m\u001b[0mpoke_tables\u001b[0m\u001b[1;33m[\u001b[0m\u001b[0mgeneration\u001b[0m\u001b[1;33m]\u001b[0m\u001b[1;33m\u001b[0m\u001b[1;33m\u001b[0m\u001b[0m\n\u001b[0;32m      9\u001b[0m         \u001b[0minfo_row\u001b[0m\u001b[1;33m=\u001b[0m\u001b[0mgen_list\u001b[0m\u001b[1;33m.\u001b[0m\u001b[0mcontents\u001b[0m\u001b[1;33m[\u001b[0m\u001b[0minfo_start\u001b[0m\u001b[1;33m]\u001b[0m\u001b[1;33m\u001b[0m\u001b[1;33m\u001b[0m\u001b[0m\n",
      "\u001b[1;31mAttributeError\u001b[0m: 'NoneType' object has no attribute 'find_all'"
     ]
    }
   ],
   "source": [
    "gen_json = pokemon_to_json(soup, startGen, endGen, scrapetime)"
   ]
  },
  {
   "cell_type": "code",
   "execution_count": null,
   "id": "95857f02",
   "metadata": {},
   "outputs": [],
   "source": [
    "gen_json"
   ]
  }
 ],
 "metadata": {
  "kernelspec": {
   "display_name": "Python 3",
   "language": "python",
   "name": "python3"
  },
  "language_info": {
   "codemirror_mode": {
    "name": "ipython",
    "version": 3
   },
   "file_extension": ".py",
   "mimetype": "text/x-python",
   "name": "python",
   "nbconvert_exporter": "python",
   "pygments_lexer": "ipython3",
   "version": "3.8.8"
  },
  "toc": {
   "base_numbering": 1,
   "nav_menu": {},
   "number_sections": true,
   "sideBar": true,
   "skip_h1_title": false,
   "title_cell": "Table of Contents",
   "title_sidebar": "Contents",
   "toc_cell": false,
   "toc_position": {},
   "toc_section_display": true,
   "toc_window_display": false
  }
 },
 "nbformat": 4,
 "nbformat_minor": 5
}
